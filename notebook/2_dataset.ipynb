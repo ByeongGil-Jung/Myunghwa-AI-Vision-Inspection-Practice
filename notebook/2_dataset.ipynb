{
 "cells": [
  {
   "cell_type": "markdown",
   "metadata": {},
   "source": [
    "# [ 2. Dataset ]"
   ]
  },
  {
   "attachments": {},
   "cell_type": "markdown",
   "metadata": {},
   "source": [
    "- __[ 실습목표 ]__  \n",
    "파이썬의 데이터 가공 패키지인 Pandas 를 활용하여 해보도록 날 것의 데이터를 학습을 위한 데이터 형태로 가공해본다."
   ]
  },
  {
   "attachments": {},
   "cell_type": "markdown",
   "metadata": {},
   "source": [
    "- __[ 실습 및 과제 내용 ]__  \n",
    "1. Cover 데이터를 '(2) – 이미지 경로 설정' 과 같은 포맷으로 구성\n",
    "2. Cover 데이터의 학습용 데이터프레임 생성"
   ]
  },
  {
   "cell_type": "markdown",
   "metadata": {},
   "source": [
    "---"
   ]
  },
  {
   "cell_type": "code",
   "execution_count": 1,
   "metadata": {},
   "outputs": [
    {
     "name": "stderr",
     "output_type": "stream",
     "text": [
      "[2020-12-09 20:12:03,343][INFO][properties.py:30] Complete to apply the random seed, RANDOM_SEED : 777\n"
     ]
    }
   ],
   "source": [
    "import os\n",
    "import pathlib\n",
    "import sys\n",
    "\n",
    "default_dir_path = str(pathlib.Path(os.getcwd()).parent.absolute())\n",
    "\n",
    "sys.path.append(default_dir_path)\n",
    "\n",
    "from properties import *"
   ]
  },
  {
   "cell_type": "code",
   "execution_count": 2,
   "metadata": {
    "pycharm": {
     "name": "#%%\n"
    }
   },
   "outputs": [],
   "source": [
    "# from dataset.dataframe import DataFrameFactory\n",
    "import os\n",
    "\n",
    "import pandas as pd\n",
    "\n",
    "\n",
    "class DataFrameFactory(object):\n",
    "\n",
    "    def __init__(self):\n",
    "        pass\n",
    "\n",
    "    @classmethod\n",
    "    def get_dataframe(cls, product, cam_number):\n",
    "        # product = model_data.product\n",
    "        # cam_number = model_data.cam_number\n",
    "        label_df = cls.get_label_df(DATASET_PROPERTIES.LABEL_PATH, sep=DATASET_PROPERTIES.LABEL_CSV_SEPARATE)\n",
    "        ng_image_path_dict = None\n",
    "        ok_image_path_dict = None\n",
    "\n",
    "        if product == \"housing\":\n",
    "            ng_image_path_dict = cls.get_image_path_dict(\n",
    "                dir_path=DATASET_PROPERTIES.HOUSING_NG_PATH,\n",
    "                cam_number=cam_number\n",
    "            )\n",
    "            ok_image_path_dict = cls.get_image_path_dict(\n",
    "                dir_path=DATASET_PROPERTIES.HOUSING_OK_PATH,\n",
    "                cam_number=cam_number\n",
    "            )\n",
    "        elif product == \"cover\":\n",
    "            ng_image_path_dict = cls.get_image_path_dict(\n",
    "                dir_path=DATASET_PROPERTIES.COVER_NG_PATH,\n",
    "                cam_number=cam_number\n",
    "            )\n",
    "            ok_image_path_dict = cls.get_image_path_dict(\n",
    "                dir_path=DATASET_PROPERTIES.COVER_OK_PATH,\n",
    "                cam_number=cam_number\n",
    "            )\n",
    "\n",
    "        ng_dataframe = cls.get_data(\n",
    "            cam_num=cam_number,\n",
    "            image_path_dict=ng_image_path_dict,\n",
    "            label_df=label_df,\n",
    "            is_NG=True\n",
    "        )\n",
    "        ok_dataframe = cls.get_data(\n",
    "            cam_num=cam_number,\n",
    "            image_path_dict=ok_image_path_dict,\n",
    "            label_df=label_df,\n",
    "            is_NG=False\n",
    "        )\n",
    "\n",
    "        ng_discolor_dataframe, ng_dataframe = cls.split_dataframe_with_defect_category(\n",
    "            df=ng_dataframe,\n",
    "            defect_category=DATASET_PROPERTIES.DEFECT_DISCOLOR\n",
    "        )\n",
    "        ok_dataframe = ok_dataframe.reset_index()  # ??\n",
    "        ok_dataframe = ok_dataframe.drop(columns=\"index\")\n",
    "\n",
    "        total_dataframe = ng_dataframe.append(ok_dataframe)\n",
    "\n",
    "        \"\"\"\n",
    "        @TODO (실습 x)\n",
    "        변색 따로 할 것\n",
    "        \"\"\"\n",
    "        # ng_discolor_dataframe\n",
    "\n",
    "        total_dataframe = total_dataframe.reset_index()\n",
    "        total_dataframe = total_dataframe.drop(columns=\"index\")\n",
    "\n",
    "        return total_dataframe\n",
    "\n",
    "    @classmethod\n",
    "    def get_image_path_dict(cls, dir_path, cam_number) -> dict:\n",
    "        image_path_dict = dict()\n",
    "\n",
    "        dir_path_list_with_serial = [os.path.join(dir_path, directory) for directory in os.listdir(dir_path) if\n",
    "                                     os.path.isdir(os.path.join(dir_path, directory))]\n",
    "\n",
    "        for dir_path_with_serial in dir_path_list_with_serial:\n",
    "            for file in os.listdir(dir_path_with_serial):\n",
    "                if os.path.splitext(file)[1] != \".png\":\n",
    "                    continue\n",
    "\n",
    "                serial_number, file_cam_name = file.split(\"_\")[-5:-3]\n",
    "                file_cam_number = int(file_cam_name[-1])\n",
    "\n",
    "                if cam_number == file_cam_number:\n",
    "                    image_path_dict[serial_number] = os.path.join(dir_path_with_serial, file)\n",
    "\n",
    "        return image_path_dict\n",
    "\n",
    "    @classmethod\n",
    "    def get_label_df(cls, label_path, sep='\\t'):\n",
    "        label_df = pd.read_csv(label_path, sep=sep)\n",
    "\n",
    "        \"\"\"\n",
    "        @TODO\n",
    "        Cover 파일 양식대로 수정할 것\n",
    "        \"\"\"\n",
    "        # Preprocessing columns\n",
    "        label_df.set_index('SERIAL_NO', inplace=True)\n",
    "        label_df['CAM_INDEX'] = label_df['CAMERA_INFO'].map(lambda x: int(x[-1]))\n",
    "        label_df['DEFECT_CATEGORY'] = label_df['LABEL_BAD_STATUS'].map(lambda x: int(x[1:]))\n",
    "        label_df['PRODUCT_CATEGORY'] = label_df['WORK_SHOP_ID'].map(lambda x: 'Housing' if x == 1680 else 'Cover')\n",
    "\n",
    "        return label_df\n",
    "\n",
    "    @classmethod\n",
    "    def get_data(cls, cam_num, image_path_dict, label_df, is_NG: bool):\n",
    "        data_dict = {\n",
    "            'serial_number_list': list(),\n",
    "            'image_path_list': list(),\n",
    "            'is_NG_list': list(),\n",
    "            'cam_list': list(),\n",
    "            'defect_category_list': list(),\n",
    "            'x_st_list': list(),\n",
    "            'x_ed_list': list(),\n",
    "            'y_st_list': list(),\n",
    "            'y_ed_list': list(),\n",
    "            'ratio_list': list()\n",
    "        }\n",
    "\n",
    "        for serial_number, image_path in image_path_dict.items():\n",
    "            if is_NG:\n",
    "                label_df_with_cam = label_df[(label_df.index == serial_number) & (label_df['CAM_INDEX'] == cam_num)]\n",
    "\n",
    "                if label_df_with_cam.size == 0:\n",
    "                    continue\n",
    "\n",
    "                defect_category_list_by_cam = list()\n",
    "                x_st_list_by_cam = list()\n",
    "                x_ed_list_by_cam = list()\n",
    "                y_st_list_by_cam = list()\n",
    "                y_ed_list_by_cam = list()\n",
    "                ratio_list_by_cam = list()\n",
    "\n",
    "                for idx, row in label_df_with_cam.iterrows():\n",
    "                    defect_category_list_by_cam.append(row['DEFECT_CATEGORY'])\n",
    "                    x_st_list_by_cam.append(int(row['START_X']))\n",
    "                    x_ed_list_by_cam.append(int(row['END_X']))\n",
    "                    y_st_list_by_cam.append(int(row['START_Y']))\n",
    "                    y_ed_list_by_cam.append(int(row['END_Y']))\n",
    "                    ratio_list_by_cam.append(row['RESIZE_RATE'])\n",
    "\n",
    "                data_dict['serial_number_list'].append(serial_number)\n",
    "                data_dict['image_path_list'].append(image_path)\n",
    "                data_dict['is_NG_list'].append(1)\n",
    "                data_dict['cam_list'].append(cam_num)\n",
    "                data_dict['defect_category_list'].append(defect_category_list_by_cam)\n",
    "                data_dict['x_st_list'].append(x_st_list_by_cam)\n",
    "                data_dict['x_ed_list'].append(x_ed_list_by_cam)\n",
    "                data_dict['y_st_list'].append(y_st_list_by_cam)\n",
    "                data_dict['y_ed_list'].append(y_ed_list_by_cam)\n",
    "                data_dict['ratio_list'].append(ratio_list_by_cam)\n",
    "            else:\n",
    "                data_dict['serial_number_list'].append(serial_number)\n",
    "                data_dict['image_path_list'].append(image_path)\n",
    "                data_dict['is_NG_list'].append(0)\n",
    "                data_dict['cam_list'].append(cam_num)\n",
    "                data_dict['defect_category_list'].append([0])\n",
    "                data_dict['x_st_list'].append([0])\n",
    "                data_dict['x_ed_list'].append([0])\n",
    "                data_dict['y_st_list'].append([0])\n",
    "                data_dict['y_ed_list'].append([0])\n",
    "                data_dict['ratio_list'].append([0])\n",
    "\n",
    "        return pd.DataFrame(data_dict)\n",
    "\n",
    "    @classmethod\n",
    "    def split_dataframe_with_defect_category(cls, df, defect_category: int):\n",
    "        defect_discolor_index_list = list()\n",
    "\n",
    "        for idx, defect_category_list in enumerate(df['defect_category_list']):\n",
    "            if defect_category in defect_category_list:\n",
    "                defect_discolor_index_list.append(idx)\n",
    "\n",
    "        defect_df = df.iloc[defect_discolor_index_list].reset_index()\n",
    "        other_df = df.drop(index=defect_df.index).reset_index()\n",
    "\n",
    "        defect_df = defect_df.drop(columns=\"index\")\n",
    "        other_df = other_df.drop(columns=\"index\")\n",
    "\n",
    "        return defect_df, other_df"
   ]
  },
  {
   "cell_type": "code",
   "execution_count": 3,
   "metadata": {
    "pycharm": {
     "name": "#%%\n"
    }
   },
   "outputs": [],
   "source": [
    "label_df = DataFrameFactory.get_label_df(label_path=DATASET_PROPERTIES.LABEL_PATH, sep=\",\")"
   ]
  },
  {
   "cell_type": "markdown",
   "metadata": {
    "pycharm": {
     "name": "#%% md\n"
    }
   },
   "source": [
    "## Label Dataframe"
   ]
  },
  {
   "cell_type": "code",
   "execution_count": 8,
   "metadata": {
    "pycharm": {
     "name": "#%%\n"
    }
   },
   "outputs": [
    {
     "data": {
      "text/html": [
       "<div>\n",
       "<style scoped>\n",
       "    .dataframe tbody tr th:only-of-type {\n",
       "        vertical-align: middle;\n",
       "    }\n",
       "\n",
       "    .dataframe tbody tr th {\n",
       "        vertical-align: top;\n",
       "    }\n",
       "\n",
       "    .dataframe thead th {\n",
       "        text-align: right;\n",
       "    }\n",
       "</style>\n",
       "<table border=\"1\" class=\"dataframe\">\n",
       "  <thead>\n",
       "    <tr style=\"text-align: right;\">\n",
       "      <th></th>\n",
       "      <th>CAMERA_INFO</th>\n",
       "      <th>LABEL_BAD_STATUS</th>\n",
       "      <th>START_X</th>\n",
       "      <th>END_X</th>\n",
       "      <th>START_Y</th>\n",
       "      <th>END_Y</th>\n",
       "      <th>RESIZE_RATE</th>\n",
       "      <th>WORK_SHOP_ID</th>\n",
       "      <th>PICTURE_IDX</th>\n",
       "      <th>CAM_INDEX</th>\n",
       "      <th>DEFECT_CATEGORY</th>\n",
       "      <th>PRODUCT_CATEGORY</th>\n",
       "    </tr>\n",
       "    <tr>\n",
       "      <th>SERIAL_NO</th>\n",
       "      <th></th>\n",
       "      <th></th>\n",
       "      <th></th>\n",
       "      <th></th>\n",
       "      <th></th>\n",
       "      <th></th>\n",
       "      <th></th>\n",
       "      <th></th>\n",
       "      <th></th>\n",
       "      <th></th>\n",
       "      <th></th>\n",
       "      <th></th>\n",
       "    </tr>\n",
       "  </thead>\n",
       "  <tbody>\n",
       "    <tr>\n",
       "      <th>20A13B2C2174C</th>\n",
       "      <td>CAM3</td>\n",
       "      <td>B003</td>\n",
       "      <td>64.0</td>\n",
       "      <td>68.0</td>\n",
       "      <td>131.0</td>\n",
       "      <td>136.0</td>\n",
       "      <td>0.398261</td>\n",
       "      <td>1680</td>\n",
       "      <td>1</td>\n",
       "      <td>3</td>\n",
       "      <td>3</td>\n",
       "      <td>Housing</td>\n",
       "    </tr>\n",
       "    <tr>\n",
       "      <th>20A13B2C2174C</th>\n",
       "      <td>CAM3</td>\n",
       "      <td>B003</td>\n",
       "      <td>236.0</td>\n",
       "      <td>248.0</td>\n",
       "      <td>188.0</td>\n",
       "      <td>198.0</td>\n",
       "      <td>0.398261</td>\n",
       "      <td>1680</td>\n",
       "      <td>1</td>\n",
       "      <td>3</td>\n",
       "      <td>3</td>\n",
       "      <td>Housing</td>\n",
       "    </tr>\n",
       "    <tr>\n",
       "      <th>20A13B2C2178B</th>\n",
       "      <td>CAM3</td>\n",
       "      <td>B003</td>\n",
       "      <td>55.0</td>\n",
       "      <td>62.0</td>\n",
       "      <td>136.0</td>\n",
       "      <td>144.0</td>\n",
       "      <td>0.398261</td>\n",
       "      <td>1680</td>\n",
       "      <td>1</td>\n",
       "      <td>3</td>\n",
       "      <td>3</td>\n",
       "      <td>Housing</td>\n",
       "    </tr>\n",
       "    <tr>\n",
       "      <th>20A13B2C2184B</th>\n",
       "      <td>CAM3</td>\n",
       "      <td>B003</td>\n",
       "      <td>73.0</td>\n",
       "      <td>79.0</td>\n",
       "      <td>99.0</td>\n",
       "      <td>104.0</td>\n",
       "      <td>0.398261</td>\n",
       "      <td>1680</td>\n",
       "      <td>1</td>\n",
       "      <td>3</td>\n",
       "      <td>3</td>\n",
       "      <td>Housing</td>\n",
       "    </tr>\n",
       "    <tr>\n",
       "      <th>20A13B2C2184B</th>\n",
       "      <td>CAM3</td>\n",
       "      <td>B003</td>\n",
       "      <td>79.0</td>\n",
       "      <td>84.0</td>\n",
       "      <td>81.0</td>\n",
       "      <td>85.0</td>\n",
       "      <td>0.398261</td>\n",
       "      <td>1680</td>\n",
       "      <td>1</td>\n",
       "      <td>3</td>\n",
       "      <td>3</td>\n",
       "      <td>Housing</td>\n",
       "    </tr>\n",
       "  </tbody>\n",
       "</table>\n",
       "</div>"
      ],
      "text/plain": [
       "              CAMERA_INFO LABEL_BAD_STATUS  START_X  END_X  START_Y  END_Y  \\\n",
       "SERIAL_NO                                                                    \n",
       "20A13B2C2174C        CAM3             B003     64.0   68.0    131.0  136.0   \n",
       "20A13B2C2174C        CAM3             B003    236.0  248.0    188.0  198.0   \n",
       "20A13B2C2178B        CAM3             B003     55.0   62.0    136.0  144.0   \n",
       "20A13B2C2184B        CAM3             B003     73.0   79.0     99.0  104.0   \n",
       "20A13B2C2184B        CAM3             B003     79.0   84.0     81.0   85.0   \n",
       "\n",
       "               RESIZE_RATE  WORK_SHOP_ID  PICTURE_IDX  CAM_INDEX  \\\n",
       "SERIAL_NO                                                          \n",
       "20A13B2C2174C     0.398261          1680            1          3   \n",
       "20A13B2C2174C     0.398261          1680            1          3   \n",
       "20A13B2C2178B     0.398261          1680            1          3   \n",
       "20A13B2C2184B     0.398261          1680            1          3   \n",
       "20A13B2C2184B     0.398261          1680            1          3   \n",
       "\n",
       "               DEFECT_CATEGORY PRODUCT_CATEGORY  \n",
       "SERIAL_NO                                        \n",
       "20A13B2C2174C                3          Housing  \n",
       "20A13B2C2174C                3          Housing  \n",
       "20A13B2C2178B                3          Housing  \n",
       "20A13B2C2184B                3          Housing  \n",
       "20A13B2C2184B                3          Housing  "
      ]
     },
     "execution_count": 8,
     "metadata": {},
     "output_type": "execute_result"
    }
   ],
   "source": [
    "label_df.head()"
   ]
  },
  {
   "cell_type": "code",
   "execution_count": 13,
   "metadata": {},
   "outputs": [
    {
     "data": {
      "text/plain": [
       "CAMERA_INFO             CAM3\n",
       "LABEL_BAD_STATUS        B003\n",
       "START_X                  236\n",
       "END_X                    248\n",
       "START_Y                  188\n",
       "END_Y                    198\n",
       "RESIZE_RATE         0.398261\n",
       "WORK_SHOP_ID            1680\n",
       "PICTURE_IDX                1\n",
       "CAM_INDEX                  3\n",
       "DEFECT_CATEGORY            3\n",
       "PRODUCT_CATEGORY     Housing\n",
       "Name: 20A13B2C2174C, dtype: object"
      ]
     },
     "execution_count": 13,
     "metadata": {},
     "output_type": "execute_result"
    }
   ],
   "source": [
    "label_df.iloc[1, :]"
   ]
  },
  {
   "cell_type": "code",
   "execution_count": 14,
   "metadata": {},
   "outputs": [
    {
     "data": {
      "text/plain": [
       "SERIAL_NO\n",
       "20A13B2C2174C    B003\n",
       "20A13B2C2174C    B003\n",
       "20A13B2C2178B    B003\n",
       "20A13B2C2184B    B003\n",
       "20A13B2C2184B    B003\n",
       "                 ... \n",
       "20H31B2C4930B    B003\n",
       "20H31B2C4930B    B003\n",
       "20H31B2C4945C    B003\n",
       "20H31B2C4962C    B003\n",
       "20H31B2C5231C    B003\n",
       "Name: LABEL_BAD_STATUS, Length: 3699, dtype: object"
      ]
     },
     "execution_count": 14,
     "metadata": {},
     "output_type": "execute_result"
    }
   ],
   "source": [
    "label_df.iloc[:, 1]"
   ]
  },
  {
   "cell_type": "code",
   "execution_count": 33,
   "metadata": {},
   "outputs": [
    {
     "data": {
      "text/html": [
       "<div>\n",
       "<style scoped>\n",
       "    .dataframe tbody tr th:only-of-type {\n",
       "        vertical-align: middle;\n",
       "    }\n",
       "\n",
       "    .dataframe tbody tr th {\n",
       "        vertical-align: top;\n",
       "    }\n",
       "\n",
       "    .dataframe thead th {\n",
       "        text-align: right;\n",
       "    }\n",
       "</style>\n",
       "<table border=\"1\" class=\"dataframe\">\n",
       "  <thead>\n",
       "    <tr style=\"text-align: right;\">\n",
       "      <th></th>\n",
       "      <th>CAMERA_INFO</th>\n",
       "      <th>LABEL_BAD_STATUS</th>\n",
       "      <th>START_X</th>\n",
       "      <th>END_X</th>\n",
       "      <th>START_Y</th>\n",
       "      <th>END_Y</th>\n",
       "      <th>RESIZE_RATE</th>\n",
       "      <th>WORK_SHOP_ID</th>\n",
       "      <th>PICTURE_IDX</th>\n",
       "      <th>CAM_INDEX</th>\n",
       "      <th>DEFECT_CATEGORY</th>\n",
       "      <th>PRODUCT_CATEGORY</th>\n",
       "    </tr>\n",
       "    <tr>\n",
       "      <th>SERIAL_NO</th>\n",
       "      <th></th>\n",
       "      <th></th>\n",
       "      <th></th>\n",
       "      <th></th>\n",
       "      <th></th>\n",
       "      <th></th>\n",
       "      <th></th>\n",
       "      <th></th>\n",
       "      <th></th>\n",
       "      <th></th>\n",
       "      <th></th>\n",
       "      <th></th>\n",
       "    </tr>\n",
       "  </thead>\n",
       "  <tbody>\n",
       "    <tr>\n",
       "      <th>20A13B2C2174C</th>\n",
       "      <td>CAM3</td>\n",
       "      <td>B003</td>\n",
       "      <td>64.0</td>\n",
       "      <td>68.0</td>\n",
       "      <td>131.0</td>\n",
       "      <td>136.0</td>\n",
       "      <td>0.398261</td>\n",
       "      <td>1680</td>\n",
       "      <td>1</td>\n",
       "      <td>3</td>\n",
       "      <td>3</td>\n",
       "      <td>Housing</td>\n",
       "    </tr>\n",
       "    <tr>\n",
       "      <th>20A13B2C2174C</th>\n",
       "      <td>CAM3</td>\n",
       "      <td>B003</td>\n",
       "      <td>236.0</td>\n",
       "      <td>248.0</td>\n",
       "      <td>188.0</td>\n",
       "      <td>198.0</td>\n",
       "      <td>0.398261</td>\n",
       "      <td>1680</td>\n",
       "      <td>1</td>\n",
       "      <td>3</td>\n",
       "      <td>3</td>\n",
       "      <td>Housing</td>\n",
       "    </tr>\n",
       "  </tbody>\n",
       "</table>\n",
       "</div>"
      ],
      "text/plain": [
       "              CAMERA_INFO LABEL_BAD_STATUS  START_X  END_X  START_Y  END_Y  \\\n",
       "SERIAL_NO                                                                    \n",
       "20A13B2C2174C        CAM3             B003     64.0   68.0    131.0  136.0   \n",
       "20A13B2C2174C        CAM3             B003    236.0  248.0    188.0  198.0   \n",
       "\n",
       "               RESIZE_RATE  WORK_SHOP_ID  PICTURE_IDX  CAM_INDEX  \\\n",
       "SERIAL_NO                                                          \n",
       "20A13B2C2174C     0.398261          1680            1          3   \n",
       "20A13B2C2174C     0.398261          1680            1          3   \n",
       "\n",
       "               DEFECT_CATEGORY PRODUCT_CATEGORY  \n",
       "SERIAL_NO                                        \n",
       "20A13B2C2174C                3          Housing  \n",
       "20A13B2C2174C                3          Housing  "
      ]
     },
     "execution_count": 33,
     "metadata": {},
     "output_type": "execute_result"
    }
   ],
   "source": [
    "label_df.loc[\"20A13B2C2174C\", :]"
   ]
  },
  {
   "cell_type": "code",
   "execution_count": 26,
   "metadata": {},
   "outputs": [
    {
     "data": {
      "text/plain": [
       "['B003',\n",
       " 'B003',\n",
       " 'B003',\n",
       " 'B003',\n",
       " 'B003',\n",
       " 'B003',\n",
       " 'B003',\n",
       " 'B001',\n",
       " 'B003',\n",
       " 'B003']"
      ]
     },
     "execution_count": 26,
     "metadata": {},
     "output_type": "execute_result"
    }
   ],
   "source": [
    "defect_category_list = [row[\"LABEL_BAD_STATUS\"] for i, row in label_df.iterrows()]\n",
    "defect_category_list[:10]"
   ]
  },
  {
   "cell_type": "code",
   "execution_count": 10,
   "metadata": {},
   "outputs": [
    {
     "data": {
      "text/html": [
       "<div>\n",
       "<style scoped>\n",
       "    .dataframe tbody tr th:only-of-type {\n",
       "        vertical-align: middle;\n",
       "    }\n",
       "\n",
       "    .dataframe tbody tr th {\n",
       "        vertical-align: top;\n",
       "    }\n",
       "\n",
       "    .dataframe thead th {\n",
       "        text-align: right;\n",
       "    }\n",
       "</style>\n",
       "<table border=\"1\" class=\"dataframe\">\n",
       "  <thead>\n",
       "    <tr style=\"text-align: right;\">\n",
       "      <th></th>\n",
       "      <th>CAMERA_INFO</th>\n",
       "      <th>LABEL_BAD_STATUS</th>\n",
       "      <th>START_X</th>\n",
       "      <th>END_X</th>\n",
       "      <th>START_Y</th>\n",
       "      <th>END_Y</th>\n",
       "      <th>RESIZE_RATE</th>\n",
       "      <th>WORK_SHOP_ID</th>\n",
       "      <th>PICTURE_IDX</th>\n",
       "      <th>CAM_INDEX</th>\n",
       "      <th>DEFECT_CATEGORY</th>\n",
       "      <th>PRODUCT_CATEGORY</th>\n",
       "    </tr>\n",
       "    <tr>\n",
       "      <th>SERIAL_NO</th>\n",
       "      <th></th>\n",
       "      <th></th>\n",
       "      <th></th>\n",
       "      <th></th>\n",
       "      <th></th>\n",
       "      <th></th>\n",
       "      <th></th>\n",
       "      <th></th>\n",
       "      <th></th>\n",
       "      <th></th>\n",
       "      <th></th>\n",
       "      <th></th>\n",
       "    </tr>\n",
       "  </thead>\n",
       "  <tbody>\n",
       "    <tr>\n",
       "      <th>20A13B2C2184B</th>\n",
       "      <td>CAM3</td>\n",
       "      <td>B003</td>\n",
       "      <td>73.0</td>\n",
       "      <td>79.0</td>\n",
       "      <td>99.0</td>\n",
       "      <td>104.0</td>\n",
       "      <td>0.398261</td>\n",
       "      <td>1680</td>\n",
       "      <td>1</td>\n",
       "      <td>3</td>\n",
       "      <td>3</td>\n",
       "      <td>Housing</td>\n",
       "    </tr>\n",
       "    <tr>\n",
       "      <th>20A13B2C2184B</th>\n",
       "      <td>CAM3</td>\n",
       "      <td>B003</td>\n",
       "      <td>79.0</td>\n",
       "      <td>84.0</td>\n",
       "      <td>81.0</td>\n",
       "      <td>85.0</td>\n",
       "      <td>0.398261</td>\n",
       "      <td>1680</td>\n",
       "      <td>1</td>\n",
       "      <td>3</td>\n",
       "      <td>3</td>\n",
       "      <td>Housing</td>\n",
       "    </tr>\n",
       "  </tbody>\n",
       "</table>\n",
       "</div>"
      ],
      "text/plain": [
       "              CAMERA_INFO LABEL_BAD_STATUS  START_X  END_X  START_Y  END_Y  \\\n",
       "SERIAL_NO                                                                    \n",
       "20A13B2C2184B        CAM3             B003     73.0   79.0     99.0  104.0   \n",
       "20A13B2C2184B        CAM3             B003     79.0   84.0     81.0   85.0   \n",
       "\n",
       "               RESIZE_RATE  WORK_SHOP_ID  PICTURE_IDX  CAM_INDEX  \\\n",
       "SERIAL_NO                                                          \n",
       "20A13B2C2184B     0.398261          1680            1          3   \n",
       "20A13B2C2184B     0.398261          1680            1          3   \n",
       "\n",
       "               DEFECT_CATEGORY PRODUCT_CATEGORY  \n",
       "SERIAL_NO                                        \n",
       "20A13B2C2184B                3          Housing  \n",
       "20A13B2C2184B                3          Housing  "
      ]
     },
     "execution_count": 10,
     "metadata": {},
     "output_type": "execute_result"
    }
   ],
   "source": [
    "label_df.query(\"(CAMERA_INFO == 'CAM3') and (SERIAL_NO == '20A13B2C2184B')\")"
   ]
  },
  {
   "cell_type": "code",
   "execution_count": 11,
   "metadata": {},
   "outputs": [
    {
     "data": {
      "text/plain": [
       "Index(['20A13B2C2220C', '20A14B2C3221C', '20A14B2C3260B', '20A21B2C2628B',\n",
       "       '20A29B2C3186B', '20A29B2C3190C', '20A30B2C2082C', '20A30B2C2384C',\n",
       "       '20A30B2C2384C', '20A30B2C2578C', '20A30B2C2994C', '20A30B2C2994C',\n",
       "       '20B04B2C2682C', '20B04B2C2872C', '20B04B2C2902B', '20B04B2C3400C',\n",
       "       '20B04B2C3572C', '20B11B2C2838B', '20B11B2C3594B', '20B12B2C2681C',\n",
       "       '20B12B2C3281C', '20B17B2C3558B', '20B17B2C3610B', '20B18B2C2941C',\n",
       "       '20B20B2C2120B', '20B20B2C2120B', '20B20B2C2239C', '20B20B2C3214C',\n",
       "       '20B20B2C3214C', '20B20B2C3244B', '20B20B2C3369C', '20B20B2C3369C',\n",
       "       '20B24B2C2192C', '20B24B2C2343C', '20B24B2C3268C', '20B25B2C2508B',\n",
       "       '20B25B2C3059B', '20B25B2C3227C', '20C02B2C2088C', '20D02B2C3145B',\n",
       "       '20D02B2C3145B', '20D17B2C2050C', '20D24B2C2880C', '20D27B2C3357B',\n",
       "       '20D28B2C2023C', '20D28B2C2108C', '20E13B2C3525C', '20E20B2C3299B',\n",
       "       '20G06B2C2701C', '20G06B2C3249C', '20G06B2C3249C', '20G07B2C2100B',\n",
       "       '20G07B2C2120C', '20G07B2C2524B', '20G08B2C3129C', '20G10B2C2930C',\n",
       "       '20G15B2C2214D', '20G15B2C2214D', '20G15B2C2214D', '20G15B2C2214D',\n",
       "       '20G15B2C3041C', '20G15B2C3325C', '20G24B2C2411C', '20H14B2C2397B',\n",
       "       '20H14B2C2942C', '20H18B2C4047C', '20H20B2C2816C', '20H20B2C3994C',\n",
       "       '20H25B2C2959C', '20H25B2C2959C', '20H25B2C2969C', '20H25B2C4296C',\n",
       "       '20H25B2C4368C', '20H27B2C3638C'],\n",
       "      dtype='object', name='SERIAL_NO')"
      ]
     },
     "execution_count": 11,
     "metadata": {},
     "output_type": "execute_result"
    }
   ],
   "source": [
    "label_df.query(\"LABEL_BAD_STATUS == 'B001'\").index"
   ]
  },
  {
   "cell_type": "code",
   "execution_count": 30,
   "metadata": {},
   "outputs": [
    {
     "data": {
      "text/plain": [
       "['20B03B2C3232B',\n",
       " '20B18B2C2738C',\n",
       " '20B24B2C3384B',\n",
       " '20B12B2C3320C',\n",
       " '20G15B2C2237C',\n",
       " '20B25B2C3067C',\n",
       " '20B24B2C2248B',\n",
       " '20B03B2C2179D',\n",
       " '20H19B2C2958B',\n",
       " '20H18B2C3022B']"
      ]
     },
     "execution_count": 30,
     "metadata": {},
     "output_type": "execute_result"
    }
   ],
   "source": [
    "list(set(label_df.index))[:10]"
   ]
  },
  {
   "cell_type": "markdown",
   "metadata": {},
   "source": [
    "## Dictionary of Image Path"
   ]
  },
  {
   "cell_type": "code",
   "execution_count": 35,
   "metadata": {
    "pycharm": {
     "name": "#%%\n"
    }
   },
   "outputs": [],
   "source": [
    "housing_cam1_NG_image_path_dict = DataFrameFactory.get_image_path_dict(dir_path=DATASET_PROPERTIES.HOUSING_NG_PATH, cam_number=1)\n",
    "housing_cam2_NG_image_path_dict = DataFrameFactory.get_image_path_dict(dir_path=DATASET_PROPERTIES.HOUSING_NG_PATH, cam_number=2)\n",
    "housing_cam3_NG_image_path_dict = DataFrameFactory.get_image_path_dict(dir_path=DATASET_PROPERTIES.HOUSING_NG_PATH, cam_number=3)\n",
    "housing_cam4_NG_image_path_dict = DataFrameFactory.get_image_path_dict(dir_path=DATASET_PROPERTIES.HOUSING_NG_PATH, cam_number=4)"
   ]
  },
  {
   "cell_type": "code",
   "execution_count": 36,
   "metadata": {
    "pycharm": {
     "name": "#%%\n"
    }
   },
   "outputs": [],
   "source": [
    "housing_cam1_OK_image_path_dict = DataFrameFactory.get_image_path_dict(dir_path=DATASET_PROPERTIES.HOUSING_OK_PATH, cam_number=1)\n",
    "housing_cam2_OK_image_path_dict = DataFrameFactory.get_image_path_dict(dir_path=DATASET_PROPERTIES.HOUSING_OK_PATH, cam_number=2)\n",
    "housing_cam3_OK_image_path_dict = DataFrameFactory.get_image_path_dict(dir_path=DATASET_PROPERTIES.HOUSING_OK_PATH, cam_number=3)\n",
    "housing_cam4_OK_image_path_dict = DataFrameFactory.get_image_path_dict(dir_path=DATASET_PROPERTIES.HOUSING_OK_PATH, cam_number=4)"
   ]
  },
  {
   "cell_type": "code",
   "execution_count": 37,
   "metadata": {
    "pycharm": {
     "name": "#%%\n"
    }
   },
   "outputs": [],
   "source": [
    "cover_cam1_NG_image_path_dict = DataFrameFactory.get_image_path_dict(dir_path=DATASET_PROPERTIES.COVER_NG_PATH, cam_number=1)\n",
    "cover_cam2_NG_image_path_dict = DataFrameFactory.get_image_path_dict(dir_path=DATASET_PROPERTIES.COVER_NG_PATH, cam_number=2)\n",
    "cover_cam3_NG_image_path_dict = DataFrameFactory.get_image_path_dict(dir_path=DATASET_PROPERTIES.COVER_NG_PATH, cam_number=3)\n",
    "cover_cam4_NG_image_path_dict = DataFrameFactory.get_image_path_dict(dir_path=DATASET_PROPERTIES.COVER_NG_PATH, cam_number=4)"
   ]
  },
  {
   "cell_type": "code",
   "execution_count": 38,
   "metadata": {
    "pycharm": {
     "name": "#%%\n"
    }
   },
   "outputs": [],
   "source": [
    "cover_cam1_OK_image_path_dict = DataFrameFactory.get_image_path_dict(dir_path=DATASET_PROPERTIES.COVER_OK_PATH, cam_number=1)\n",
    "cover_cam2_OK_image_path_dict = DataFrameFactory.get_image_path_dict(dir_path=DATASET_PROPERTIES.COVER_OK_PATH, cam_number=2)\n",
    "cover_cam3_OK_image_path_dict = DataFrameFactory.get_image_path_dict(dir_path=DATASET_PROPERTIES.COVER_OK_PATH, cam_number=3)\n",
    "cover_cam4_OK_image_path_dict = DataFrameFactory.get_image_path_dict(dir_path=DATASET_PROPERTIES.COVER_OK_PATH, cam_number=4)"
   ]
  },
  {
   "cell_type": "markdown",
   "metadata": {
    "pycharm": {
     "name": "#%% md\n"
    }
   },
   "source": [
    "## Dataframe for training"
   ]
  },
  {
   "cell_type": "code",
   "execution_count": 39,
   "metadata": {
    "pycharm": {
     "name": "#%%\n"
    }
   },
   "outputs": [],
   "source": [
    "housing_cam1_NG_df = DataFrameFactory.get_data(cam_num=1, image_path_dict=housing_cam1_NG_image_path_dict, label_df=label_df, is_NG=True)\n",
    "housing_cam2_NG_df = DataFrameFactory.get_data(cam_num=2, image_path_dict=housing_cam2_NG_image_path_dict, label_df=label_df, is_NG=True)\n",
    "housing_cam3_NG_df = DataFrameFactory.get_data(cam_num=3, image_path_dict=housing_cam3_NG_image_path_dict, label_df=label_df, is_NG=True)\n",
    "housing_cam4_NG_df = DataFrameFactory.get_data(cam_num=4, image_path_dict=housing_cam4_NG_image_path_dict, label_df=label_df, is_NG=True)"
   ]
  },
  {
   "cell_type": "code",
   "execution_count": 40,
   "metadata": {
    "pycharm": {
     "name": "#%%\n"
    }
   },
   "outputs": [],
   "source": [
    "housing_cam1_OK_df = DataFrameFactory.get_data(cam_num=1, image_path_dict=housing_cam1_OK_image_path_dict, label_df=label_df, is_NG=False)\n",
    "housing_cam2_OK_df = DataFrameFactory.get_data(cam_num=2, image_path_dict=housing_cam2_OK_image_path_dict, label_df=label_df, is_NG=False)\n",
    "housing_cam3_OK_df = DataFrameFactory.get_data(cam_num=3, image_path_dict=housing_cam3_OK_image_path_dict, label_df=label_df, is_NG=False)\n",
    "housing_cam4_OK_df = DataFrameFactory.get_data(cam_num=4, image_path_dict=housing_cam4_OK_image_path_dict, label_df=label_df, is_NG=False)"
   ]
  },
  {
   "cell_type": "code",
   "execution_count": 41,
   "metadata": {
    "pycharm": {
     "name": "#%%\n"
    }
   },
   "outputs": [],
   "source": [
    "cover_cam1_NG_df = DataFrameFactory.get_data(cam_num=1, image_path_dict=cover_cam1_NG_image_path_dict, label_df=label_df, is_NG=True)\n",
    "cover_cam2_NG_df = DataFrameFactory.get_data(cam_num=2, image_path_dict=cover_cam2_NG_image_path_dict, label_df=label_df, is_NG=True)\n",
    "cover_cam3_NG_df = DataFrameFactory.get_data(cam_num=3, image_path_dict=cover_cam3_NG_image_path_dict, label_df=label_df, is_NG=True)\n",
    "cover_cam4_NG_df = DataFrameFactory.get_data(cam_num=4, image_path_dict=cover_cam4_NG_image_path_dict, label_df=label_df, is_NG=True)"
   ]
  },
  {
   "cell_type": "code",
   "execution_count": 42,
   "metadata": {
    "pycharm": {
     "name": "#%%\n"
    }
   },
   "outputs": [],
   "source": [
    "cover_cam1_OK_df = DataFrameFactory.get_data(cam_num=1, image_path_dict=cover_cam1_OK_image_path_dict, label_df=label_df, is_NG=False)\n",
    "cover_cam2_OK_df = DataFrameFactory.get_data(cam_num=2, image_path_dict=cover_cam2_OK_image_path_dict, label_df=label_df, is_NG=False)\n",
    "cover_cam3_OK_df = DataFrameFactory.get_data(cam_num=3, image_path_dict=cover_cam3_OK_image_path_dict, label_df=label_df, is_NG=False)\n",
    "cover_cam4_OK_df = DataFrameFactory.get_data(cam_num=4, image_path_dict=cover_cam4_OK_image_path_dict, label_df=label_df, is_NG=False)"
   ]
  },
  {
   "cell_type": "code",
   "execution_count": 43,
   "metadata": {
    "pycharm": {
     "name": "#%%\n"
    }
   },
   "outputs": [
    {
     "data": {
      "text/html": [
       "<div>\n",
       "<style scoped>\n",
       "    .dataframe tbody tr th:only-of-type {\n",
       "        vertical-align: middle;\n",
       "    }\n",
       "\n",
       "    .dataframe tbody tr th {\n",
       "        vertical-align: top;\n",
       "    }\n",
       "\n",
       "    .dataframe thead th {\n",
       "        text-align: right;\n",
       "    }\n",
       "</style>\n",
       "<table border=\"1\" class=\"dataframe\">\n",
       "  <thead>\n",
       "    <tr style=\"text-align: right;\">\n",
       "      <th></th>\n",
       "      <th>serial_number_list</th>\n",
       "      <th>image_path_list</th>\n",
       "      <th>is_NG_list</th>\n",
       "      <th>cam_list</th>\n",
       "      <th>defect_category_list</th>\n",
       "      <th>x_st_list</th>\n",
       "      <th>x_ed_list</th>\n",
       "      <th>y_st_list</th>\n",
       "      <th>y_ed_list</th>\n",
       "      <th>ratio_list</th>\n",
       "    </tr>\n",
       "  </thead>\n",
       "  <tbody>\n",
       "    <tr>\n",
       "      <th>0</th>\n",
       "      <td>20C18B2C0053</td>\n",
       "      <td>D:\\AI_Lab\\MH\\git\\newnewnew\\Myunghwa-AI-Vision-...</td>\n",
       "      <td>0</td>\n",
       "      <td>1</td>\n",
       "      <td>[0]</td>\n",
       "      <td>[0]</td>\n",
       "      <td>[0]</td>\n",
       "      <td>[0]</td>\n",
       "      <td>[0]</td>\n",
       "      <td>[0]</td>\n",
       "    </tr>\n",
       "    <tr>\n",
       "      <th>1</th>\n",
       "      <td>20C18B2C0066</td>\n",
       "      <td>D:\\AI_Lab\\MH\\git\\newnewnew\\Myunghwa-AI-Vision-...</td>\n",
       "      <td>0</td>\n",
       "      <td>1</td>\n",
       "      <td>[0]</td>\n",
       "      <td>[0]</td>\n",
       "      <td>[0]</td>\n",
       "      <td>[0]</td>\n",
       "      <td>[0]</td>\n",
       "      <td>[0]</td>\n",
       "    </tr>\n",
       "    <tr>\n",
       "      <th>2</th>\n",
       "      <td>20C18B2C0141</td>\n",
       "      <td>D:\\AI_Lab\\MH\\git\\newnewnew\\Myunghwa-AI-Vision-...</td>\n",
       "      <td>0</td>\n",
       "      <td>1</td>\n",
       "      <td>[0]</td>\n",
       "      <td>[0]</td>\n",
       "      <td>[0]</td>\n",
       "      <td>[0]</td>\n",
       "      <td>[0]</td>\n",
       "      <td>[0]</td>\n",
       "    </tr>\n",
       "    <tr>\n",
       "      <th>3</th>\n",
       "      <td>20C18B2C0150</td>\n",
       "      <td>D:\\AI_Lab\\MH\\git\\newnewnew\\Myunghwa-AI-Vision-...</td>\n",
       "      <td>0</td>\n",
       "      <td>1</td>\n",
       "      <td>[0]</td>\n",
       "      <td>[0]</td>\n",
       "      <td>[0]</td>\n",
       "      <td>[0]</td>\n",
       "      <td>[0]</td>\n",
       "      <td>[0]</td>\n",
       "    </tr>\n",
       "    <tr>\n",
       "      <th>4</th>\n",
       "      <td>20C18B2C0960</td>\n",
       "      <td>D:\\AI_Lab\\MH\\git\\newnewnew\\Myunghwa-AI-Vision-...</td>\n",
       "      <td>0</td>\n",
       "      <td>1</td>\n",
       "      <td>[0]</td>\n",
       "      <td>[0]</td>\n",
       "      <td>[0]</td>\n",
       "      <td>[0]</td>\n",
       "      <td>[0]</td>\n",
       "      <td>[0]</td>\n",
       "    </tr>\n",
       "    <tr>\n",
       "      <th>5</th>\n",
       "      <td>20C18B2C0974</td>\n",
       "      <td>D:\\AI_Lab\\MH\\git\\newnewnew\\Myunghwa-AI-Vision-...</td>\n",
       "      <td>0</td>\n",
       "      <td>1</td>\n",
       "      <td>[0]</td>\n",
       "      <td>[0]</td>\n",
       "      <td>[0]</td>\n",
       "      <td>[0]</td>\n",
       "      <td>[0]</td>\n",
       "      <td>[0]</td>\n",
       "    </tr>\n",
       "    <tr>\n",
       "      <th>6</th>\n",
       "      <td>20C18B2C1014</td>\n",
       "      <td>D:\\AI_Lab\\MH\\git\\newnewnew\\Myunghwa-AI-Vision-...</td>\n",
       "      <td>0</td>\n",
       "      <td>1</td>\n",
       "      <td>[0]</td>\n",
       "      <td>[0]</td>\n",
       "      <td>[0]</td>\n",
       "      <td>[0]</td>\n",
       "      <td>[0]</td>\n",
       "      <td>[0]</td>\n",
       "    </tr>\n",
       "    <tr>\n",
       "      <th>7</th>\n",
       "      <td>20C18B2C1021</td>\n",
       "      <td>D:\\AI_Lab\\MH\\git\\newnewnew\\Myunghwa-AI-Vision-...</td>\n",
       "      <td>0</td>\n",
       "      <td>1</td>\n",
       "      <td>[0]</td>\n",
       "      <td>[0]</td>\n",
       "      <td>[0]</td>\n",
       "      <td>[0]</td>\n",
       "      <td>[0]</td>\n",
       "      <td>[0]</td>\n",
       "    </tr>\n",
       "  </tbody>\n",
       "</table>\n",
       "</div>"
      ],
      "text/plain": [
       "  serial_number_list                                    image_path_list  \\\n",
       "0       20C18B2C0053  D:\\AI_Lab\\MH\\git\\newnewnew\\Myunghwa-AI-Vision-...   \n",
       "1       20C18B2C0066  D:\\AI_Lab\\MH\\git\\newnewnew\\Myunghwa-AI-Vision-...   \n",
       "2       20C18B2C0141  D:\\AI_Lab\\MH\\git\\newnewnew\\Myunghwa-AI-Vision-...   \n",
       "3       20C18B2C0150  D:\\AI_Lab\\MH\\git\\newnewnew\\Myunghwa-AI-Vision-...   \n",
       "4       20C18B2C0960  D:\\AI_Lab\\MH\\git\\newnewnew\\Myunghwa-AI-Vision-...   \n",
       "5       20C18B2C0974  D:\\AI_Lab\\MH\\git\\newnewnew\\Myunghwa-AI-Vision-...   \n",
       "6       20C18B2C1014  D:\\AI_Lab\\MH\\git\\newnewnew\\Myunghwa-AI-Vision-...   \n",
       "7       20C18B2C1021  D:\\AI_Lab\\MH\\git\\newnewnew\\Myunghwa-AI-Vision-...   \n",
       "\n",
       "   is_NG_list  cam_list defect_category_list x_st_list x_ed_list y_st_list  \\\n",
       "0           0         1                  [0]       [0]       [0]       [0]   \n",
       "1           0         1                  [0]       [0]       [0]       [0]   \n",
       "2           0         1                  [0]       [0]       [0]       [0]   \n",
       "3           0         1                  [0]       [0]       [0]       [0]   \n",
       "4           0         1                  [0]       [0]       [0]       [0]   \n",
       "5           0         1                  [0]       [0]       [0]       [0]   \n",
       "6           0         1                  [0]       [0]       [0]       [0]   \n",
       "7           0         1                  [0]       [0]       [0]       [0]   \n",
       "\n",
       "  y_ed_list ratio_list  \n",
       "0       [0]        [0]  \n",
       "1       [0]        [0]  \n",
       "2       [0]        [0]  \n",
       "3       [0]        [0]  \n",
       "4       [0]        [0]  \n",
       "5       [0]        [0]  \n",
       "6       [0]        [0]  \n",
       "7       [0]        [0]  "
      ]
     },
     "execution_count": 43,
     "metadata": {},
     "output_type": "execute_result"
    }
   ],
   "source": [
    "cover_cam1_OK_df"
   ]
  },
  {
   "cell_type": "code",
   "execution_count": null,
   "metadata": {
    "pycharm": {
     "name": "#%%\n"
    }
   },
   "outputs": [],
   "source": []
  },
  {
   "cell_type": "code",
   "execution_count": null,
   "metadata": {
    "pycharm": {
     "name": "#%%\n"
    }
   },
   "outputs": [],
   "source": []
  },
  {
   "cell_type": "code",
   "execution_count": null,
   "metadata": {
    "pycharm": {
     "name": "#%%\n"
    }
   },
   "outputs": [],
   "source": [
    "\n"
   ]
  }
 ],
 "metadata": {
  "kernelspec": {
   "display_name": "Python 3",
   "language": "python",
   "name": "python3"
  },
  "language_info": {
   "codemirror_mode": {
    "name": "ipython",
    "version": 3
   },
   "file_extension": ".py",
   "mimetype": "text/x-python",
   "name": "python",
   "nbconvert_exporter": "python",
   "pygments_lexer": "ipython3",
   "version": "3.7.6"
  }
 },
 "nbformat": 4,
 "nbformat_minor": 1
}