{
 "cells": [
  {
   "cell_type": "code",
   "execution_count": 1,
   "metadata": {},
   "outputs": [
    {
     "name": "stderr",
     "output_type": "stream",
     "text": [
      "d:\\programming\\python\\venv\\myunghwa-ai-vision-inspection-practice\\lib\\site-packages\\torch\\cuda\\__init__.py:52: UserWarning: CUDA initialization: Found no NVIDIA driver on your system. Please check that you have an NVIDIA GPU and installed a driver from http://www.nvidia.com/Download/index.aspx (Triggered internally at  ..\\c10\\cuda\\CUDAFunctions.cpp:100.)\n",
      "  return torch._C._cuda_getDeviceCount() > 0\n",
      "[2021-01-06 22:49:03,281][INFO][properties.py:30] Complete to apply the random seed, RANDOM_SEED : 777\n"
     ]
    }
   ],
   "source": [
    "import os\n",
    "import pathlib\n",
    "import sys\n",
    "\n",
    "default_dir_path = str(pathlib.Path(os.getcwd()).parent.absolute())\n",
    "\n",
    "sys.path.append(default_dir_path)\n",
    "\n",
    "from properties import *"
   ]
  },
  {
   "cell_type": "code",
   "execution_count": 2,
   "metadata": {},
   "outputs": [],
   "source": [
    "import time\n",
    "\n",
    "from model.model_set import ModelSet\n",
    "from cropping.cropping_factory import CropperFactory\n",
    "from dataset.generator.crop_data_generator import CropDataGenerator\n",
    "\n",
    "\n",
    "LABEL_PATH = DATASET_PROPERTIES.LABEL_PATH\n",
    "\n",
    "HOUSING_NG_PATH = DATASET_PROPERTIES.HOUSING_NG_PATH\n",
    "HOUSING_OK_PATH = DATASET_PROPERTIES.HOUSING_OK_PATH\n",
    "\n",
    "COVER_NG_PATH = DATASET_PROPERTIES.COVER_NG_PATH\n",
    "COVER_OK_PATH = DATASET_PROPERTIES.COVER_OK_PATH"
   ]
  },
  {
   "cell_type": "markdown",
   "metadata": {},
   "source": [
    "## Load Model Set"
   ]
  },
  {
   "cell_type": "code",
   "execution_count": 3,
   "metadata": {},
   "outputs": [],
   "source": [
    "model_set = ModelSet.housing_cam2_autoencoder_model_set_1()"
   ]
  },
  {
   "cell_type": "code",
   "execution_count": 4,
   "metadata": {},
   "outputs": [
    {
     "data": {
      "text/plain": [
       "{'name': 'housing_cam2_autoencoder_model_set_1',\n",
       " 'models': {'grid_1': housing_2_grid_1_autoencoder_256,\n",
       "  'grid_2': housing_2_grid_2_autoencoder_256,\n",
       "  'grid_3': housing_2_grid_3_autoencoder_256,\n",
       "  'grid_4': housing_2_grid_4_autoencoder_256,\n",
       "  'grid_5': housing_2_grid_5_autoencoder_256,\n",
       "  'grid_6': housing_2_grid_6_autoencoder_256,\n",
       "  'grid_7': housing_2_grid_7_autoencoder_256,\n",
       "  'grid_8': housing_2_grid_8_autoencoder_256,\n",
       "  'grid_9': housing_2_grid_9_autoencoder_256,\n",
       "  'grid_10': housing_2_grid_10_autoencoder_256,\n",
       "  'grid_11': housing_2_grid_11_autoencoder_256,\n",
       "  'grid_12': housing_2_grid_12_autoencoder_256,\n",
       "  'grid_13': housing_2_grid_13_autoencoder_256,\n",
       "  'grid_14': housing_2_grid_14_autoencoder_256,\n",
       "  'grid_15': housing_2_grid_15_autoencoder_256,\n",
       "  'grid_16': housing_2_grid_16_autoencoder_256}}"
      ]
     },
     "execution_count": 4,
     "metadata": {},
     "output_type": "execute_result"
    }
   ],
   "source": [
    "model_set.__dict__"
   ]
  },
  {
   "cell_type": "code",
   "execution_count": 5,
   "metadata": {},
   "outputs": [
    {
     "data": {
      "text/plain": [
       "dict_keys(['grid_1', 'grid_2', 'grid_3', 'grid_4', 'grid_5', 'grid_6', 'grid_7', 'grid_8', 'grid_9', 'grid_10', 'grid_11', 'grid_12', 'grid_13', 'grid_14', 'grid_15', 'grid_16'])"
      ]
     },
     "execution_count": 5,
     "metadata": {},
     "output_type": "execute_result"
    }
   ],
   "source": [
    "grid_list = model_set.__dict__[\"models\"].keys()\n",
    "grid_list"
   ]
  },
  {
   "cell_type": "markdown",
   "metadata": {},
   "source": [
    "## Auto Generate"
   ]
  },
  {
   "cell_type": "code",
   "execution_count": 6,
   "metadata": {},
   "outputs": [
    {
     "name": "stdout",
     "output_type": "stream",
     "text": [
      "==== [housing_2_grid_1] ====\n",
      "Train OK data size : 4, Test OK data size : 1, Test NG data size : 1\n",
      "Elapsed Time : 6.301793813705444\n",
      "==== [housing_2_grid_2] ====\n",
      "Train OK data size : 4, Test OK data size : 1, Test NG data size : 1\n",
      "Elapsed Time : 3.1363160610198975\n",
      "==== [housing_2_grid_3] ====\n",
      "Train OK data size : 5, Test OK data size : 0, Test NG data size : 0\n",
      "Elapsed Time : 3.045408010482788\n",
      "==== [housing_2_grid_4] ====\n",
      "Train OK data size : 4, Test OK data size : 1, Test NG data size : 1\n",
      "Elapsed Time : 3.132822275161743\n",
      "==== [housing_2_grid_5] ====\n",
      "Train OK data size : 5, Test OK data size : 0, Test NG data size : 0\n",
      "Elapsed Time : 3.044542074203491\n",
      "==== [housing_2_grid_6] ====\n",
      "Train OK data size : 4, Test OK data size : 1, Test NG data size : 1\n",
      "Elapsed Time : 3.00907039642334\n",
      "==== [housing_2_grid_7] ====\n",
      "Train OK data size : 3, Test OK data size : 2, Test NG data size : 2\n",
      "Elapsed Time : 3.0176868438720703\n",
      "==== [housing_2_grid_8] ====\n",
      "Train OK data size : 4, Test OK data size : 1, Test NG data size : 1\n",
      "Elapsed Time : 3.030932903289795\n",
      "==== [housing_2_grid_9] ====\n",
      "Train OK data size : 5, Test OK data size : 0, Test NG data size : 0\n",
      "Elapsed Time : 3.0339057445526123\n",
      "==== [housing_2_grid_10] ====\n",
      "Train OK data size : 5, Test OK data size : 0, Test NG data size : 0\n",
      "Elapsed Time : 3.0095510482788086\n",
      "==== [housing_2_grid_11] ====\n",
      "Train OK data size : 4, Test OK data size : 1, Test NG data size : 1\n",
      "Elapsed Time : 3.0479795932769775\n",
      "==== [housing_2_grid_12] ====\n",
      "Train OK data size : 5, Test OK data size : 0, Test NG data size : 0\n",
      "Elapsed Time : 3.090660810470581\n",
      "==== [housing_2_grid_13] ====\n",
      "Train OK data size : 5, Test OK data size : 0, Test NG data size : 0\n",
      "Elapsed Time : 4.732911825180054\n",
      "==== [housing_2_grid_14] ====\n",
      "Train OK data size : 5, Test OK data size : 0, Test NG data size : 0\n",
      "Elapsed Time : 3.447969436645508\n",
      "==== [housing_2_grid_15] ====\n",
      "Train OK data size : 4, Test OK data size : 1, Test NG data size : 1\n",
      "Elapsed Time : 3.1438887119293213\n",
      "==== [housing_2_grid_16] ====\n",
      "Train OK data size : 4, Test OK data size : 1, Test NG data size : 1\n",
      "Elapsed Time : 3.0725367069244385\n"
     ]
    },
    {
     "name": "stderr",
     "output_type": "stream",
     "text": [
      "100%|██████████| 10/10 [00:06<00:00,  1.60it/s]\n",
      "100%|██████████| 10/10 [00:03<00:00,  3.20it/s]\n",
      "100%|██████████| 10/10 [00:03<00:00,  3.30it/s]\n",
      "100%|██████████| 10/10 [00:03<00:00,  3.20it/s]\n",
      "100%|██████████| 10/10 [00:03<00:00,  3.30it/s]\n",
      "100%|██████████| 10/10 [00:02<00:00,  3.34it/s]\n",
      "100%|██████████| 10/10 [00:03<00:00,  3.32it/s]\n",
      "100%|██████████| 10/10 [00:03<00:00,  3.31it/s]\n",
      "100%|██████████| 10/10 [00:03<00:00,  3.31it/s]\n",
      "100%|██████████| 10/10 [00:03<00:00,  3.33it/s]\n",
      "100%|██████████| 10/10 [00:03<00:00,  3.29it/s]\n",
      "100%|██████████| 10/10 [00:03<00:00,  3.24it/s]\n",
      "100%|██████████| 10/10 [00:04<00:00,  2.12it/s]\n",
      "100%|██████████| 10/10 [00:03<00:00,  2.93it/s]\n",
      "100%|██████████| 10/10 [00:03<00:00,  3.19it/s]\n",
      "100%|██████████| 10/10 [00:03<00:00,  3.27it/s]\n"
     ]
    }
   ],
   "source": [
    "for grid in grid_list:\n",
    "    model_metadata = model_set.models[grid]\n",
    "    image_metadata = model_metadata.image_metadata\n",
    "    model_file_metadata = model_metadata.model_file_metadata\n",
    "    print(f\"==== [{image_metadata.product}_{image_metadata.cam_number}_{image_metadata.crop_part}] ====\")\n",
    "\n",
    "    cropping_properties = CropperFactory.get_properties(image_metadata=image_metadata)\n",
    "    dataset_generator = CropDataGenerator.create(image_metadata=image_metadata, tqdm_env=\"script\")\n",
    "\n",
    "    time_st = time.time()\n",
    "    dataset_generator.generate(generate_size=None, is_saved=True, is_removed=True, **cropping_properties)\n",
    "    time_ed = time.time()\n",
    "    \n",
    "    CropDataGenerator.get_anomaly_data_with_image_metadata(\n",
    "        image_metadata=image_metadata,\n",
    "        train_ok_ratio_against_ng=1.0,\n",
    "        is_loaded=False,\n",
    "        is_saved=True,\n",
    "        is_shuffle=True\n",
    "    )\n",
    "    \n",
    "\n",
    "    print(f\"Elapsed Time : {time_ed - time_st}\")"
   ]
  },
  {
   "cell_type": "code",
   "execution_count": null,
   "metadata": {},
   "outputs": [],
   "source": []
  }
 ],
 "metadata": {
  "kernelspec": {
   "display_name": "Python 3",
   "language": "python",
   "name": "python3"
  },
  "language_info": {
   "codemirror_mode": {
    "name": "ipython",
    "version": 3
   },
   "file_extension": ".py",
   "mimetype": "text/x-python",
   "name": "python",
   "nbconvert_exporter": "python",
   "pygments_lexer": "ipython3",
   "version": "3.7.6"
  }
 },
 "nbformat": 4,
 "nbformat_minor": 4
}
